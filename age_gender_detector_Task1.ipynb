{
  "nbformat": 4,
  "nbformat_minor": 0,
  "metadata": {
    "colab": {
      "provenance": [],
      "authorship_tag": "ABX9TyM/fC9xwNERk5N28TTg2tsi",
      "include_colab_link": true
    },
    "kernelspec": {
      "name": "python3",
      "display_name": "Python 3"
    },
    "language_info": {
      "name": "python"
    }
  },
  "cells": [
    {
      "cell_type": "markdown",
      "metadata": {
        "id": "view-in-github",
        "colab_type": "text"
      },
      "source": [
        "<a href=\"https://colab.research.google.com/github/Amisha1019/assignment/blob/main/age_gender_detector_Task1.ipynb\" target=\"_parent\"><img src=\"https://colab.research.google.com/assets/colab-badge.svg\" alt=\"Open In Colab\"/></a>"
      ]
    },
    {
      "cell_type": "code",
      "execution_count": 1,
      "metadata": {
        "id": "vRZoKxVXUIIt"
      },
      "outputs": [],
      "source": [
        "import tkinter as tk\n",
        "from tkinter import filedialog\n",
        "from tkinter import Label, Button\n",
        "from PIL import Image, ImageTk\n",
        "import cv2\n",
        "import numpy as np\n",
        "import os\n"
      ]
    },
    {
      "cell_type": "code",
      "source": [
        "def predict_gender(image_path, age):\n",
        "    # Load image\n",
        "    img = cv2.imread(\"/content/sshort hair male.png\")\n",
        "    img_resized = cv2.resize(img, (128, 128))\n",
        "    gray = cv2.cvtColor(img_resized, cv2.COLOR_BGR2GRAY)\n",
        "    edges = cv2.Canny(gray, 50, 150)\n",
        "\n",
        "    hair_score = np.sum(edges) / 10000\n",
        "\n",
        "    if 20 <= age <= 30:\n",
        "        if hair_score > 200:  # threshold to simulate \"long hair\"\n",
        "            return \"Female (due to Long Hair Rule)\"\n",
        "        else:\n",
        "            return \"Male (due to Short Hair Rule)\"\n",
        "    else:\n",
        "        # Outside 20-30 → normal prediction (simulate with face ratio)\n",
        "        h, w, _ = img_resized.shape\n",
        "        face_ratio = np.mean(gray)\n",
        "        if face_ratio > 120:\n",
        "            return \"Female\"\n",
        "        else:\n",
        "            return \"Male\""
      ],
      "metadata": {
        "id": "7pa11DQOUdpM"
      },
      "execution_count": 46,
      "outputs": []
    },
    {
      "cell_type": "code",
      "source": [
        "def predict_gender(image_path, age):\n",
        "    # Load image\n",
        "    img = cv2.imread(\"/content/sshort hair male.png\")\n",
        "    img_resized = cv2.resize(img, (128, 128))\n",
        "\n",
        "\n",
        "    gray = cv2.cvtColor(img_resized, cv2.COLOR_BGR2GRAY)\n",
        "    edges = cv2.Canny(gray, 50, 150)\n",
        "\n",
        "\n",
        "    hair_score = np.sum(edges) / 10000"
      ],
      "metadata": {
        "id": "KRQW9vc8Y1Po"
      },
      "execution_count": 43,
      "outputs": []
    },
    {
      "cell_type": "markdown",
      "metadata": {
        "id": "77fad245"
      },
      "source": [
        "Now that the `predict_gender` function is complete, we can call it with an image path and an age to get a prediction."
      ]
    },
    {
      "cell_type": "code",
      "metadata": {
        "colab": {
          "base_uri": "https://localhost:8080/"
        },
        "id": "2ef9838d",
        "outputId": "6d23b00c-991c-4a41-d2ed-b79bb7b9832c"
      },
      "source": [
        "\n",
        "image_path = \"/content/sshort hair male.png\"\n",
        "age = 25\n",
        "predicted_gender = predict_gender(\"/content/sshort hair male.png\", age)\n",
        "print(f\"The predicted gender is: {predicted_gender}\")"
      ],
      "execution_count": 44,
      "outputs": [
        {
          "output_type": "stream",
          "name": "stdout",
          "text": [
            "The predicted gender is: None\n"
          ]
        }
      ]
    },
    {
      "cell_type": "code",
      "source": [
        "def predict_gender(image_path, age):\n",
        "\n",
        "    img = cv2.imread(\"/content/long hair girl.png\")\n",
        "    img_resized = cv2.resize(img, (128, 128))\n",
        "\n",
        "\n",
        "    gray = cv2.cvtColor(img_resized, cv2.COLOR_BGR2GRAY)\n",
        "    edges = cv2.Canny(gray, 50, 150)\n",
        "\n",
        "\n",
        "    hair_score = np.sum(edges) / 10000\n",
        "\n",
        "    if 20 <= age <= 30:\n",
        "        if hair_score > 200:  # threshold to simulate \"long hair\"\n",
        "            return \"Female (due to Long Hair Rule)\"\n",
        "        else:\n",
        "            return \"Male (due to Short Hair Rule)\"\n",
        "    else:\n",
        "\n",
        "        h, w, _ = img_resized.shape\n",
        "        face_ratio = np.mean(gray)\n",
        "        if face_ratio > 120:\n",
        "            return \"Female\"\n",
        "        else:\n",
        "            return \"Male\""
      ],
      "metadata": {
        "id": "jtf1TU6wWcqg"
      },
      "execution_count": 41,
      "outputs": []
    },
    {
      "cell_type": "code",
      "source": [
        "class HairGenderApp:\n",
        "    def __init__(self, master):\n",
        "        self.master = master\n",
        "        master.title(\"Hair-based Gender Detector\")\n",
        "\n",
        "        self.label = Label(master, text=\"/content/long hair girl.png\")\n",
        "        self.label.pack()\n",
        "\n",
        "        self.image_label = Label(master)\n",
        "        self.image_label.pack()\n",
        "\n",
        "        self.result_label = Label(master, text=\"/content/sshort hair male.png\", font=(\"Arial\", 14))\n",
        "        self.result_label.pack()\n",
        "\n",
        "        self.age_entry = tk.Entry(master)\n",
        "        self.age_entry.pack()\n",
        "        self.age_entry.insert(0, \"25\")  # default\n",
        "\n",
        "        self.upload_button = Button(master, text=\"/content/long hair girl.png\", command=self.upload_image)\n",
        "        self.upload_button.pack()\n",
        "\n",
        "\n",
        ""
      ],
      "metadata": {
        "id": "HCjedc8RWyoZ"
      },
      "execution_count": 48,
      "outputs": []
    },
    {
      "cell_type": "code",
      "source": [
        " def upload_image(self):\n",
        "        file_path = filedialog.askopenfilename(filetypes=[(\"/content/long hair girl.png\", \"/content/sshort hair male.png\")])\n",
        "        if file_path:\n",
        "\n",
        "            img = Image.open(file_path)\n",
        "            img.thumbnail((300, 300))\n",
        "            imgtk = ImageTk.PhotoImage(img)\n",
        "            self.image_label.configure(image=imgtk)\n",
        "            self.image_label.image = imgtk\n",
        "\n",
        "\n",
        "            age = int(self.age_entry.get())\n",
        "\n",
        "\n",
        "            result = predict_gender(file_path, age)\n",
        "            self.result_label.config(text=f\"Prediction: {result}\")\n",
        "\n",
        "if __name__ == \"long hair girl.png\":\n",
        "    root = tk.Tk()\n",
        "    app = HairGenderApp(root)\n",
        "    root.mainloop()"
      ],
      "metadata": {
        "id": "pVsbRgQGXLXV"
      },
      "execution_count": 49,
      "outputs": []
    }
  ]
}