{
  "nbformat": 4,
  "nbformat_minor": 0,
  "metadata": {
    "colab": {
      "provenance": [],
      "authorship_tag": "ABX9TyMwrMNMbrQBwWSwFztn5k70",
      "include_colab_link": true
    },
    "kernelspec": {
      "name": "python3",
      "display_name": "Python 3"
    },
    "language_info": {
      "name": "python"
    }
  },
  "cells": [
    {
      "cell_type": "markdown",
      "metadata": {
        "id": "view-in-github",
        "colab_type": "text"
      },
      "source": [
        "<a href=\"https://colab.research.google.com/github/Amisha1019/assignment/blob/main/neuro.ipynb\" target=\"_parent\"><img src=\"https://colab.research.google.com/assets/colab-badge.svg\" alt=\"Open In Colab\"/></a>"
      ]
    },
    {
      "cell_type": "code",
      "source": [
        "#A\n",
        "a = [0,0,1,1,0,0,\n",
        "     0,1,0,0,1,0,\n",
        "     1,1,1,1,1,1,\n",
        "     1,0,0,0,0,1,\n",
        "     1,0,0,0,0,1]\n",
        "\n",
        "#B\n",
        "b = [0,1,1,1,1,0,\n",
        "     0,1,0,0,1,0,\n",
        "     0,1,1,1,1,0,\n",
        "     0,1,0,0,1,0,\n",
        "     0,1,1,1,1,0]\n",
        "\n",
        "#C\n",
        "c = [0,1,1,1,1,0,\n",
        "     0,1,0,0,0,0,\n",
        "     0,1,0,0,0,0,\n",
        "     0,1,0,0,0,0,\n",
        "     0,1,1,1,1,0]"
      ],
      "metadata": {
        "id": "6_9fsEunrFRg"
      },
      "execution_count": 2,
      "outputs": []
    },
    {
      "cell_type": "code",
      "source": [
        "y = [[1,0,0],\n",
        "     [0,1,0],\n",
        "     [0,0,1]]"
      ],
      "metadata": {
        "id": "JZLy94Rtr7fC"
      },
      "execution_count": 3,
      "outputs": []
    },
    {
      "cell_type": "code",
      "source": [
        "import numpy as np\n",
        "import matplotlib.pyplot as plt"
      ],
      "metadata": {
        "id": "eLRuGbbWsEhW"
      },
      "execution_count": 4,
      "outputs": []
    },
    {
      "cell_type": "code",
      "source": [
        "plt.imshow(np.array(a).reshape(5,6))\n",
        "plt.show()"
      ],
      "metadata": {
        "colab": {
          "base_uri": "https://localhost:8080/",
          "height": 430
        },
        "id": "F--Bs4PasPpX",
        "outputId": "f2e830d5-b08f-401e-9c28-888a2348c8a6"
      },
      "execution_count": 5,
      "outputs": [
        {
          "output_type": "display_data",
          "data": {
            "text/plain": [
              "<Figure size 640x480 with 1 Axes>"
            ],
            "image/png": "[encoded data removed]"
          },
          "metadata": {}
        }
      ]
    },
    {
      "cell_type": "code",
      "source": [
        "x = [np.array(a).reshape(1,30),np.array(b).reshape(1,30), np.array(c).reshape(1,30)]\n",
        "\n",
        "y = np.array(y)\n",
        "\n",
        "print(x, y )"
      ],
      "metadata": {
        "colab": {
          "base_uri": "https://localhost:8080/"
        },
        "id": "m5GaaztOsmkn",
        "outputId": "02cc0b88-2bdb-4f4d-9fac-4bcf04d39bbd"
      },
      "execution_count": 6,
      "outputs": [
        {
          "output_type": "stream",
          "name": "stdout",
          "text": [
            "[array([[0, 0, 1, 1, 0, 0, 0, 1, 0, 0, 1, 0, 1, 1, 1, 1, 1, 1, 1, 0, 0, 0,\n",
            "        0, 1, 1, 0, 0, 0, 0, 1]]), array([[0, 1, 1, 1, 1, 0, 0, 1, 0, 0, 1, 0, 0, 1, 1, 1, 1, 0, 0, 1, 0, 0,\n",
            "        1, 0, 0, 1, 1, 1, 1, 0]]), array([[0, 1, 1, 1, 1, 0, 0, 1, 0, 0, 0, 0, 0, 1, 0, 0, 0, 0, 0, 1, 0, 0,\n",
            "        0, 0, 0, 1, 1, 1, 1, 0]])] [[1 0 0]\n",
            " [0 1 0]\n",
            " [0 0 1]]\n"
          ]
        }
      ]
    },
    {
      "cell_type": "code",
      "source": [
        "#input (1,30)\n",
        "#hidden(1,5)\n",
        "#output(3,3)"
      ],
      "metadata": {
        "id": "2RVckMETtIaM"
      },
      "execution_count": 7,
      "outputs": []
    },
    {
      "cell_type": "code",
      "source": [
        "def sigmoid(x):\n",
        "  return(1/(1+np.exp(-x)))"
      ],
      "metadata": {
        "id": "rwZCbk9ntTM6"
      },
      "execution_count": 8,
      "outputs": []
    },
    {
      "cell_type": "code",
      "source": [
        "def f_forward(x, w1, w2):\n",
        "  z1 = x.dot(w1)\n",
        "  a1 = sigmoid(z1)\n",
        "\n",
        "  z2 = a1.dot(w2)\n",
        "  a2 = sigmoid(z2)\n",
        "  return(a2)\n",
        ""
      ],
      "metadata": {
        "id": "RJXXgNfCtl6F"
      },
      "execution_count": 10,
      "outputs": []
    },
    {
      "cell_type": "code",
      "source": [
        "def generate_wt(x,y):\n",
        "  l = []\n",
        "  for i in range(x*y):\n",
        "      l.append(np.random.randn())\n",
        "  return(np.array(l).reshape(x,y))"
      ],
      "metadata": {
        "id": "ar1DEIRKuNf8"
      },
      "execution_count": 11,
      "outputs": []
    },
    {
      "cell_type": "code",
      "source": [
        "def loss(out, Y):\n",
        "  s = (np.square(out-Y))\n",
        "  s = np.sum(s)/len(y)\n",
        "  return(s)"
      ],
      "metadata": {
        "id": "LSA6LcgAumZe"
      },
      "execution_count": 12,
      "outputs": []
    },
    {
      "cell_type": "code",
      "source": [
        "#back propogation\n",
        "def back_prop(x,y,w1, w2, alpha):\n",
        "\n",
        "  #hidden\n",
        "  z1 = x.dot(w1)\n",
        "  a1 = sigmoid(z1)\n",
        "\n",
        "  #output\n",
        "  z2 = a1.dot(w2)\n",
        "  a2 = sigmoid(z2)\n",
        "\n",
        "  d2= (a2-y)\n",
        "  d1 = np.multiply((w2.dot((d2.transpose())))).transpose(),(np.multiply(a1, 1-a1))\n",
        "\n",
        "  #gradient\n",
        "  w1_adj = x.transpose().dot(d1)\n",
        "  w_2_adj = a1.transpose().dot(d2)\n",
        "\n",
        "  #update\n",
        "  w1 = w1 - alpha*w1_adj\n",
        "  w2 = w2 - alpha*w_2_adj\n",
        "\n",
        "  return(w1,w2)\n",
        ""
      ],
      "metadata": {
        "id": "pomstyjwu43G"
      },
      "execution_count": 13,
      "outputs": []
    },
    {
      "cell_type": "code",
      "source": [
        "def train(x,y,w1,w2,alpha=0.01, epoch = 10):\n",
        "  acc= []\n",
        "  loss= []\n",
        "  for i in range(len(x)):\n",
        "    out = f_forward(x[i,w1,w2])\n",
        "    l.append((loss(out,Y[i])))\n",
        "    w1, w2 = back_prop(x[i], y[i], w1, w2, alpha)\n",
        "  print(\"Epochs:\", j+1, \"acc:\", (1-(sum(l)/len(x)))*100)\n",
        "  acc.append((1-(sum(l)/len(x)))*100)\n",
        "  loss.append(sum(l)/len(x))\n",
        "  return(acc,loss,w1,w2)\n"
      ],
      "metadata": {
        "id": "tnLvBku2yLLx"
      },
      "execution_count": 20,
      "outputs": []
    },
    {
      "cell_type": "code",
      "source": [
        "def predict(x,w1,w2):\n",
        "  out = f_forward(x,w1,w2)\n",
        "  maxm=0\n",
        "  k=0\n",
        "  for i in range(len(out[0])):\n",
        "    if(maxm<out[0][i]):\n",
        "      maxm = out[0][i]\n",
        "      k = i\n",
        "  if (k == 0):\n",
        "    print(\"image is of letter a\")\n",
        "  elif(k == 1):\n",
        "    print(\"image is of letter b\")\n",
        "  else:\n",
        "    print(\"image is of letter c\")\n",
        "  plt.imshow(x.reshape(5,6))\n",
        "  plt.show()"
      ],
      "metadata": {
        "id": "2rhP-7ld4x5P"
      },
      "execution_count": 28,
      "outputs": []
    },
    {
      "cell_type": "code",
      "source": [
        "w1 = generate_wt(30,5)\n",
        "w2 = generate_wt(5,3)\n",
        "print(w1, w2)"
      ],
      "metadata": {
        "colab": {
          "base_uri": "https://localhost:8080/"
        },
        "id": "LqH-zSIN6OYm",
        "outputId": "5c24b003-95a5-40c0-eed2-6b28a5ded879"
      },
      "execution_count": 29,
      "outputs": [
        {
          "output_type": "stream",
          "name": "stdout",
          "text": [
            "[[ 0.36275199 -0.41583711  0.49051725  0.27696326 -1.09206094]\n",
            " [ 0.82314617  1.16389314  0.01531552  0.88315185 -0.68347475]\n",
            " [ 1.79398026  0.88016941  0.51984616 -1.17823087  0.69699127]\n",
            " [ 0.75743966 -0.45943243 -0.94726717 -0.51348537  0.87239845]\n",
            " [-1.37327135 -0.070517   -0.0829232  -1.01267659 -0.83422317]\n",
            " [-0.58636284 -0.27101963  0.88678573 -0.98099193 -1.97011853]\n",
            " [-1.27250376  0.36282925 -0.26216872  0.2400297  -1.18931006]\n",
            " [-0.20087897 -0.64926558  1.0550515  -0.65634409 -1.52967545]\n",
            " [-0.04124576 -0.91372009 -1.08627439  0.42756007  0.86216134]\n",
            " [-0.48747029 -1.11149509 -0.47427153  1.96084463  0.02958014]\n",
            " [-0.27821401 -0.78100441 -0.8990357  -0.42141995  0.25415446]\n",
            " [ 0.5079757   2.56907886 -0.13557906  0.73027374 -1.03438581]\n",
            " [ 0.49084934 -0.71807093  0.21443858  0.77352169 -0.25683664]\n",
            " [-0.31501979 -0.7537008   0.7315965   0.86795053 -0.62115264]\n",
            " [-0.44139303 -0.69025868  2.46250776 -0.46933648  0.81936764]\n",
            " [-0.8142541  -0.10117489 -0.32614355  0.31113981  0.95164197]\n",
            " [ 0.47254561  0.65347674 -0.26912586 -0.46565422  0.04139526]\n",
            " [-1.16700352 -1.87684977 -0.19241974  0.05414137 -1.33043381]\n",
            " [ 0.57496436  1.54916921 -0.94681022  0.47453359 -1.19406518]\n",
            " [ 0.38881102  1.88312346 -0.23055462 -0.13904194 -0.53556388]\n",
            " [-0.40259308 -1.04343408 -0.22427328  0.85637802  0.07140276]\n",
            " [ 0.07928781 -1.01775832 -0.69046002 -0.57906184 -1.62584346]\n",
            " [ 0.86004635 -1.04554127 -0.22198117  0.9863731   0.17871471]\n",
            " [ 0.60119098  0.55794458 -0.46963874 -1.15889234  1.93726825]\n",
            " [ 0.2896183  -1.5979302   0.7525309   0.35442187  0.44744028]\n",
            " [-0.81641369 -1.45211791  0.08312979  1.52990836 -1.30567378]\n",
            " [ 0.32498286 -0.88288491  0.97235567 -0.74018332 -0.26502184]\n",
            " [-2.70996503  0.6575502   0.02315256 -1.04689527 -1.2973544 ]\n",
            " [-0.74727922 -0.02483024 -1.75377783 -0.5578786  -1.71762567]\n",
            " [ 0.99367488  0.23099843 -0.56500859  0.16560479  0.43747068]] [[-0.64511186 -1.86837679 -0.28216982]\n",
            " [-0.40284813  0.19629415 -0.86605846]\n",
            " [ 1.04456277 -0.04086862 -0.28791569]\n",
            " [ 0.9132083  -0.13346872 -0.01757458]\n",
            " [-0.53986119 -0.05837591 -0.81141776]]\n"
          ]
        }
      ]
    }
  ]
}